{
  "nbformat": 4,
  "nbformat_minor": 0,
  "metadata": {
    "colab": {
      "provenance": []
    },
    "kernelspec": {
      "name": "python3",
      "display_name": "Python 3"
    },
    "language_info": {
      "name": "python"
    }
  },
  "cells": [
    {
      "cell_type": "markdown",
      "source": [],
      "metadata": {
        "id": "9UY3j55PHgMp"
      }
    },
    {
      "cell_type": "code",
      "source": [
        "pakistan_cities = {\n",
        "    'Karachi': ['Hyderabad'],\n",
        "    'Hyderabad': ['Karachi', 'Sukkur'],\n",
        "    'Sukkur': ['Hyderabad', 'Multan', 'Quetta'],\n",
        "    'Multan': ['Sukkur', 'Lahore'],\n",
        "    'Quetta': ['Sukkur'],\n",
        "    'Lahore': ['Multan', 'Islamabad'],\n",
        "    'Islamabad': ['Lahore', 'Peshawar'],\n",
        "    'Peshawar': ['Islamabad']\n",
        "}\n",
        "from collections import deque\n",
        "\n",
        "def bfs_shortest_path(graph, start, goal):\n",
        "    queue = deque([[start]])\n",
        "    visited = set()\n",
        "\n",
        "    while queue:\n",
        "        path = queue.popleft()\n",
        "        current_city = path[-1]\n",
        "\n",
        "        if current_city == goal:\n",
        "            return path\n",
        "\n",
        "        if current_city not in visited:\n",
        "            visited.add(current_city)\n",
        "\n",
        "            for neighbor in graph.get(current_city, []):\n",
        "                new_path = list(path)\n",
        "                new_path.append(neighbor)\n",
        "                queue.append(new_path)\n",
        "\n",
        "    return None\n",
        "\n",
        "def dfs_path(graph, start, goal, path=None, visited=None):\n",
        "    if path is None:\n",
        "        path = []\n",
        "    if visited is None:\n",
        "        visited = set()\n",
        "\n",
        "    path.append(start)\n",
        "    visited.add(start)\n",
        "\n",
        "    if start == goal:\n",
        "        return path\n",
        "\n",
        "    for neighbor in graph.get(start, []):\n",
        "        if neighbor not in visited:\n",
        "            result = dfs_path(graph, neighbor, goal, path.copy(), visited.copy())\n",
        "            if result:\n",
        "                return result\n",
        "\n",
        "    return None\n",
        "\n",
        "start_city = \"Karachi\"\n",
        "goal_city = \"Peshawar\"\n",
        "\n",
        "bfs_result = bfs_shortest_path(pakistan_cities, start_city, goal_city)\n",
        "print(\"BFS Shortest Path from Karachi to Peshawar:\", bfs_result)\n",
        "\n",
        "dfs_result = dfs_path(pakistan_cities, start_city, goal_city)\n",
        "print(\"DFS Path from Karachi to Peshawar:\", dfs_result)\n",
        "\n",
        ""
      ],
      "metadata": {
        "colab": {
          "base_uri": "https://localhost:8080/"
        },
        "id": "7xmBV7BgSaYm",
        "outputId": "f1cd02c2-8315-47a1-9391-249df4e0346c"
      },
      "execution_count": 1,
      "outputs": [
        {
          "output_type": "stream",
          "name": "stdout",
          "text": [
            "BFS Shortest Path from Karachi to Peshawar: ['Karachi', 'Hyderabad', 'Sukkur', 'Multan', 'Lahore', 'Islamabad', 'Peshawar']\n",
            "DFS Path from Karachi to Peshawar: ['Karachi', 'Hyderabad', 'Sukkur', 'Multan', 'Lahore', 'Islamabad', 'Peshawar']\n"
          ]
        }
      ]
    }
  ]
}