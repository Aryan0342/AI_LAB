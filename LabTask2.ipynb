{
  "nbformat": 4,
  "nbformat_minor": 0,
  "metadata": {
    "colab": {
      "provenance": [],
      "toc_visible": true
    },
    "kernelspec": {
      "name": "python3",
      "display_name": "Python 3"
    },
    "language_info": {
      "name": "python"
    }
  },
  "cells": [
    {
      "cell_type": "code",
      "execution_count": null,
      "metadata": {
        "id": "Y5YhieX6CouX"
      },
      "outputs": [],
      "source": []
    },
    {
      "cell_type": "markdown",
      "source": [
        "# Matplotlib"
      ],
      "metadata": {
        "id": "XXlJnhtwEZUP"
      }
    },
    {
      "cell_type": "markdown",
      "source": [
        "# Numphy"
      ],
      "metadata": {
        "id": "S42PWImKEga-"
      }
    },
    {
      "cell_type": "markdown",
      "source": [
        "# List\n"
      ],
      "metadata": {
        "id": "Wa7y4CmhEiEq"
      }
    },
    {
      "cell_type": "code",
      "source": [
        "my_list = [1,2,3,4,5,6,7,8,9,10]\n",
        "print(my_list)\n",
        "\n",
        "list_sum = sum(my_list)\n",
        "list_max = max(my_list)\n",
        "list_min = min(my_list)\n",
        "my_list.append(12)\n",
        "my_list.pop()\n",
        "my_list.sort\n",
        "my_list.reverse()\n",
        "print(my_list)\n",
        "\n",
        "print(\"Sum:\", list_sum)\n",
        "print(\"Maximum:\", list_max)\n",
        "print(\"Minimum:\", list_min)"
      ],
      "metadata": {
        "colab": {
          "base_uri": "https://localhost:8080/"
        },
        "id": "nhjur9-uK4Yi",
        "outputId": "2061c46e-f8f6-41e7-ac18-66157106d130"
      },
      "execution_count": 2,
      "outputs": [
        {
          "output_type": "stream",
          "name": "stdout",
          "text": [
            "[1, 2, 3, 4, 5, 6, 7, 8, 9, 10]\n",
            "[10, 9, 8, 7, 6, 5, 4, 3, 2, 1]\n",
            "Sum: 55\n",
            "Maximum: 10\n",
            "Minimum: 1\n"
          ]
        }
      ]
    },
    {
      "cell_type": "markdown",
      "source": [
        "Tuple"
      ],
      "metadata": {
        "id": "yYACEkPbEpAQ"
      }
    },
    {
      "cell_type": "code",
      "source": [
        "my_tuple = (\"apple\", \"banana\", \"cherry\", \"date\")\n",
        "print(my_tuple)\n",
        "print('third element is',my_tuple[2])\n",
        "my_list = list(my_tuple)\n",
        "my_list.append(\"orange\")\n",
        "my_list[1]='peach'\n",
        "my_tuple = tuple(my_list)\n",
        "print('modified tuple',my_tuple)\n"
      ],
      "metadata": {
        "colab": {
          "base_uri": "https://localhost:8080/"
        },
        "id": "dJCP_VlnMhlW",
        "outputId": "82ebacb5-ce26-4e02-9fed-3879cf20a928"
      },
      "execution_count": 16,
      "outputs": [
        {
          "output_type": "stream",
          "name": "stdout",
          "text": [
            "('apple', 'banana', 'cherry', 'date')\n",
            "third element is cherry\n",
            "modified tuple ('apple', 'peach', 'cherry', 'date', 'orange')\n"
          ]
        }
      ]
    },
    {
      "cell_type": "markdown",
      "source": [
        "# Set"
      ],
      "metadata": {
        "id": "y-qlWbz2Eqa5"
      }
    },
    {
      "cell_type": "code",
      "source": [
        "set1 = {1, 2, 3}\n",
        "set2 = {3, 4, 5}\n",
        "print(set1)\n",
        "print(set2)\n",
        "set1.add(6)\n",
        "set1.add(7)\n",
        "print(\"Updated Set 1:\", set1)\n",
        "union_set = set1.union(set2)\n",
        "intersection_set = set1.intersection(set2)\n",
        "\n",
        "print(\"Union:\", union_set)\n",
        "print(\"Intersection:\", intersection_set)"
      ],
      "metadata": {
        "colab": {
          "base_uri": "https://localhost:8080/"
        },
        "id": "0vgvsJU-Vo3T",
        "outputId": "ac18631b-d489-4d55-9b0f-cef5cab67577"
      },
      "execution_count": 18,
      "outputs": [
        {
          "output_type": "stream",
          "name": "stdout",
          "text": [
            "{1, 2, 3}\n",
            "{3, 4, 5}\n",
            "Updated Set 1: {1, 2, 3, 6, 7}\n",
            "Union: {1, 2, 3, 4, 5, 6, 7}\n",
            "Intersection: {3}\n"
          ]
        }
      ]
    },
    {
      "cell_type": "markdown",
      "source": [
        "# Dictionary"
      ],
      "metadata": {
        "id": "_I7YkWgDFFiR"
      }
    },
    {
      "cell_type": "code",
      "metadata": {
        "colab": {
          "base_uri": "https://localhost:8080/"
        },
        "id": "ab35d20f",
        "outputId": "ce95753c-9b58-49fe-9b9f-d607f8e5c79a"
      },
      "source": [
        "student_marks = {\n",
        "    \"Ali\": 85,\n",
        "    \"Ali\": 92,\n",
        "    \"Ali\": 78,\n",
        "    \"Ali\": 95,\n",
        "    \"Ali\": 88\n",
        "}\n",
        "\n",
        "print(student_marks)"
      ],
      "execution_count": 21,
      "outputs": [
        {
          "output_type": "stream",
          "name": "stdout",
          "text": [
            "{'Ali': 88}\n"
          ]
        }
      ]
    },
    {
      "cell_type": "code",
      "metadata": {
        "id": "32df7295"
      },
      "source": [],
      "execution_count": null,
      "outputs": []
    }
  ]
}